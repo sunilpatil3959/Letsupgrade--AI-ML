{
 "cells": [
  {
   "cell_type": "markdown",
   "metadata": {},
   "source": [
    "# Question No1"
   ]
  },
  {
   "cell_type": "code",
   "execution_count": 2,
   "metadata": {},
   "outputs": [
    {
     "name": "stdout",
     "output_type": "stream",
     "text": [
      "enter the email id:sunilgp39@gmail.com\n",
      "username is: sunilgp39\n",
      "Company name is : gmail\n"
     ]
    }
   ],
   "source": [
    "email = input('enter the email id:')\n",
    "a = email.index(\"@\")\n",
    "b = email.index(\".\")\n",
    "company = email[a+1:b]\n",
    "username= email[:a]\n",
    "print('username is:',username)\n",
    "print(\"Company name is :\",company)"
   ]
  },
  {
   "cell_type": "markdown",
   "metadata": {},
   "source": [
    "# Question No2"
   ]
  },
  {
   "cell_type": "code",
   "execution_count": 1,
   "metadata": {},
   "outputs": [
    {
     "name": "stdout",
     "output_type": "stream",
     "text": [
      "enter the words:Mango,Sun,Dog,Sunil\n",
      "['Dog', 'Mango', 'Sun', 'Sunil']\n",
      "Dog,Mango,Sun,Sunil\n"
     ]
    }
   ],
   "source": [
    "s1=input('enter the words:')\n",
    "lst=s1.split(',')\n",
    "lst.sort()\n",
    "print(lst)\n",
    "var=''\n",
    "var=','.join(lst)\n",
    "print(var)\n"
   ]
  },
  {
   "cell_type": "markdown",
   "metadata": {},
   "source": [
    "# Question No3"
   ]
  },
  {
   "cell_type": "code",
   "execution_count": 4,
   "metadata": {},
   "outputs": [
    {
     "name": "stdout",
     "output_type": "stream",
     "text": [
      "{'C', 'B', 'A'}\n"
     ]
    }
   ],
   "source": [
    "#Create a Set:\n",
    "set1 = {\"A\", \"B\", \"C\"}\n",
    "print(set1)"
   ]
  },
  {
   "cell_type": "code",
   "execution_count": 5,
   "metadata": {},
   "outputs": [
    {
     "name": "stdout",
     "output_type": "stream",
     "text": [
      "{'C', 'B', 'A', 'D'}\n"
     ]
    }
   ],
   "source": [
    "# Modify a Set:\n",
    "set1.add('D')\n",
    "print(set1)"
   ]
  },
  {
   "cell_type": "code",
   "execution_count": 6,
   "metadata": {},
   "outputs": [
    {
     "data": {
      "text/plain": [
       "'C'"
      ]
     },
     "execution_count": 6,
     "metadata": {},
     "output_type": "execute_result"
    }
   ],
   "source": [
    " #Remove an random element\n",
    "set1.pop()"
   ]
  },
  {
   "cell_type": "code",
   "execution_count": 12,
   "metadata": {},
   "outputs": [
    {
     "data": {
      "text/plain": [
       "set()"
      ]
     },
     "execution_count": 12,
     "metadata": {},
     "output_type": "execute_result"
    }
   ],
   "source": [
    "#Empty the set\n",
    "set1.clear()\n",
    "set1"
   ]
  },
  {
   "cell_type": "markdown",
   "metadata": {},
   "source": [
    "# Question No3"
   ]
  },
  {
   "cell_type": "code",
   "execution_count": 13,
   "metadata": {},
   "outputs": [
    {
     "name": "stdout",
     "output_type": "stream",
     "text": [
      " Enter n-1 numbers with one missing number: 1 3 4 7 8 6 9 5\n",
      " Missing Number in the list is:  2\n"
     ]
    }
   ],
   "source": [
    "var = list(input(\" Enter n-1 numbers with one missing number: \"))\n",
    "var.sort()\n",
    "#print(var)\n",
    "\n",
    "var1 = 0\n",
    "for i in var:\n",
    "    if i == ' ':\n",
    "        pass\n",
    "    else:    \n",
    "        if int(i) - var1 > 1:\n",
    "            print(\" Missing Number in the list is: \", int(i)-1)\n",
    "            break\n",
    "        else:\n",
    "            var1 += 1"
   ]
  }
 ],
 "metadata": {
  "kernelspec": {
   "display_name": "Python 3",
   "language": "python",
   "name": "python3"
  },
  "language_info": {
   "codemirror_mode": {
    "name": "ipython",
    "version": 3
   },
   "file_extension": ".py",
   "mimetype": "text/x-python",
   "name": "python",
   "nbconvert_exporter": "python",
   "pygments_lexer": "ipython3",
   "version": "3.7.6"
  }
 },
 "nbformat": 4,
 "nbformat_minor": 4
}
